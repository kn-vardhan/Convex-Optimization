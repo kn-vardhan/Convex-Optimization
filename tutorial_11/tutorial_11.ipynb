{
  "nbformat": 4,
  "nbformat_minor": 0,
  "metadata": {
    "colab": {
      "name": "Convex_Optimization_11.ipynb",
      "provenance": [],
      "collapsed_sections": []
    },
    "kernelspec": {
      "name": "python3",
      "display_name": "Python 3"
    },
    "language_info": {
      "name": "python"
    }
  },
  "cells": [
    {
      "cell_type": "code",
      "source": [
        "# Convex Optimization \n",
        "# Tutorial 11\n",
        "# Feature selection and sparse linear separation\n",
        "\n",
        "import numpy as np\n",
        "import cvxpy as cp\n",
        "import matplotlib.pyplot as plt"
      ],
      "metadata": {
        "id": "FEw-CGE13nFo"
      },
      "execution_count": null,
      "outputs": []
    },
    {
      "cell_type": "code",
      "execution_count": null,
      "metadata": {
        "id": "K7zJT_krzh7n"
      },
      "outputs": [],
      "source": [
        "# the given data in .m format has been converted into .txt file\n",
        "# with neccessary changes, such as removing ';...'\n",
        "# to make it easy to read the contents of the file\n",
        "\n",
        "M = N = n = 50\n",
        "Lambda = np.logspace(-2, 2, 50)\n",
        "features = []\n",
        "thickness = []\n",
        "cardinality = []\n",
        "\n",
        "with open(\"X_data.txt\",\"r\") as file:\n",
        "  X = []\n",
        "  for i in range(n):\n",
        "    X.append(file.readline().split())\n",
        "    X[i] = [float(x) for x in X[i]]\n",
        "X = np.matrix(X)\n",
        "\n",
        "with open(\"Y_data.txt\",\"r\") as file:\n",
        "  Y = []\n",
        "  for i in range(n):\n",
        "    Y.append(file.readline().split())\n",
        "    Y[i] = [float(y) for y in Y[i]]\n",
        "Y = np.matrix(Y)\n",
        "\n",
        "def card(A):\n",
        "  value = 0\n",
        "  for i in range(n):\n",
        "    if np.abs(A[i]) > 0.0001:\n",
        "      value += 1\n",
        "    else:\n",
        "      features.append(i)\n",
        "\n",
        "  return value\n",
        "\n",
        "A = cp.Variable((n, 1))\n",
        "B = cp.Variable(1)\n",
        "\n",
        "Constraints = []\n",
        "for i in range(N):\n",
        "  Constraints += [X.T[i] @ A - B >= 1]\n",
        "for i in range(M):\n",
        "  Constraints += [Y.T[i] @ A - B <= -1]\n",
        "\n",
        "for j in Lambda:\n",
        "  Objective = cp.Minimize(cp.norm(A, 2) + j*cp.norm(A, 1))\n",
        "  prob = cp.Problem(Objective, Constraints)\n",
        "  prob.solve()\n",
        "  thickness.append(2 / cp.norm(A).value)\n",
        "  cardinality.append(card(A.value))\n"
      ]
    },
    {
      "cell_type": "code",
      "source": [
        "plt.figure()\n",
        "plt.title('Cardinality Vs Thickness of the slab')\n",
        "plt.plot(cardinality, thickness)\n",
        "plt.xlabel(\"Cardinality\")\n",
        "plt.ylabel(\"Thickness of the slab\")"
      ],
      "metadata": {
        "id": "e8P36Qod80Zy",
        "outputId": "70585bc7-5f9f-4ef6-ffc4-4e949ec7a8c3",
        "colab": {
          "base_uri": "https://localhost:8080/",
          "height": 313
        }
      },
      "execution_count": null,
      "outputs": [
        {
          "output_type": "execute_result",
          "data": {
            "text/plain": [
              "Text(0, 0.5, 'Thickness of the slab')"
            ]
          },
          "metadata": {},
          "execution_count": 21
        },
        {
          "output_type": "display_data",
          "data": {
            "text/plain": [
              "<Figure size 432x288 with 1 Axes>"
            ],
            "image/png": "[encoded data removed]"
          },
          "metadata": {
            "needs_background": "light"
          }
        }
      ]
    },
    {
      "cell_type": "code",
      "source": [
        "final_features = [i for i in range(n)]\n",
        "for i in set(features):\n",
        "  final_features.remove(i)\n",
        "print(f'Indices of the features used: {final_features}')\n",
        "\n",
        "new_X = []\n",
        "new_Y = []\n",
        "for i in final_features:\n",
        "  new_X.append(X[i])\n",
        "  new_Y.append(Y[i])\n",
        "\n",
        "A = cp.Variable((10, 1))\n",
        "B = cp.Variable(1)\n",
        "Constraints = []\n",
        "for i in range(10):\n",
        "  Constraints += [np.array(new_X).T[i] @ A - B >= 1]\n",
        "  Constraints += [np.array(new_Y).T[i] @ A - B <= -1]\n",
        "\n",
        "Objective = cp.Minimize(cp.norm(A, 2))\n",
        "prob = cp.Problem(Objective, Constraints)\n",
        "prob.solve()\n",
        "print(f'The maximum thickness that separates the slab using the chosen festures is\\n{2/cp.norm(A).value}\\n')\n"
      ],
      "metadata": {
        "id": "oN9YdlG119s2",
        "outputId": "11aa5577-c3ab-4396-cd8c-ceee66fcac86",
        "colab": {
          "base_uri": "https://localhost:8080/"
        }
      },
      "execution_count": null,
      "outputs": [
        {
          "output_type": "stream",
          "name": "stdout",
          "text": [
            "Indices of the features used: [0, 6, 7, 17, 18, 20, 22, 25, 26, 45]\n",
            "The maximum thickness that separates the slab using the chosen festures is\n",
            "84.3938782814674\n",
            "\n"
          ]
        }
      ]
    }
  ]
}