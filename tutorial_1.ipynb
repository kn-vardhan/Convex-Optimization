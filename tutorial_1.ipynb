{
  "nbformat": 4,
  "nbformat_minor": 0,
  "metadata": {
    "colab": {
      "name": "ConvexOptimization.ipynb",
      "provenance": []
    },
    "kernelspec": {
      "name": "python3",
      "display_name": "Python 3"
    },
    "language_info": {
      "name": "python"
    }
  },
  "cells": [
    {
      "cell_type": "code",
      "source": [
        "# Convex Optimization\n",
        "# Tutorial 1\n",
        "# Diet Problem\n",
        "\n",
        "import numpy as np\n",
        "import cvxpy as cp\n"
      ],
      "metadata": {
        "id": "S8rk4e_jfQp3"
      },
      "execution_count": null,
      "outputs": []
    },
    {
      "cell_type": "code",
      "source": [
        "cost = np.matrix([0.18, 0.23, 0.05])\n",
        "vitamin = np.matrix([107, 500, 0])\n",
        "calories = np.matrix([72, 121, 65])\n",
        "\n",
        "diet = cp.Variable((3, 1), integer=True)\n",
        "obj = cp.Minimize(cp.matmul(cost, diet))\n",
        "\n",
        "constraints = [0 <= diet, diet <= 10, \n",
        "               5000 <= cp.matmul(vitamin, diet), cp.matmul(vitamin, diet) <= 500000, \n",
        "               2000 <= cp.matmul(calories, diet), cp.matmul(calories, diet) <= 2250]\n",
        "\n",
        "prob = cp.Problem(obj, constraints)\n",
        "prob.solve()\n",
        "\n",
        "print(f'Optimal Serving of Corn - {int(diet.value[0])}')\n",
        "print(f'Optimal Serving of Milk (2%) - {int(diet.value[1])}')\n",
        "print(f'Optimal Serving of Wheat Bread - {int(diet.value[2])}')\n",
        "print(f'Optimal Cost - ${float(np.matmul(cost, diet.value))}')\n",
        "\n"
      ],
      "metadata": {
        "id": "diQ0MTO33uPO",
        "outputId": "7471bf6f-14d8-4220-e8f6-e8318365e900",
        "colab": {
          "base_uri": "https://localhost:8080/"
        }
      },
      "execution_count": null,
      "outputs": [
        {
          "output_type": "stream",
          "name": "stdout",
          "text": [
            "Optimal Serving of Corn - 2\n",
            "Optimal Serving of Milk (2%) - 10\n",
            "Optimal Serving of Wheat Bread - 10\n",
            "Optimal Cost - $3.16\n"
          ]
        }
      ]
    }
  ]
}