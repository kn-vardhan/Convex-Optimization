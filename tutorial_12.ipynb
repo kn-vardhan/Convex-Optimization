{
  "nbformat": 4,
  "nbformat_minor": 0,
  "metadata": {
    "colab": {
      "name": "Convex_Optimization_12.ipynb",
      "provenance": []
    },
    "kernelspec": {
      "name": "python3",
      "display_name": "Python 3"
    },
    "language_info": {
      "name": "python"
    }
  },
  "cells": [
    {
      "cell_type": "code",
      "source": [
        "# Convex Optimization\n",
        "# Tutorial 12\n",
        "# Robust LP\n",
        "\n",
        "import numpy as np\n",
        "import cvxpy as cp"
      ],
      "metadata": {
        "id": "LWnyBdnzXFl8"
      },
      "execution_count": 1,
      "outputs": []
    },
    {
      "cell_type": "code",
      "execution_count": 2,
      "metadata": {
        "id": "KeAY6rF8IuPH"
      },
      "outputs": [],
      "source": [
        "np.random.seed(10)\n",
        "(m, n) = (30, 10)\n",
        "A = np.random.rand(m, n)\n",
        "A = np.asmatrix(A)\n",
        "B = np.random.rand(m,1)\n",
        "B = np.asmatrix(B)\n",
        "C_nom = np.ones((n, 1)) + np.random.rand(n, 1)\n",
        "C_nom = np.asmatrix(C_nom)\n",
        "\n",
        "F = np.zeros((22, 10))\n",
        "for i in range(n):\n",
        "  F[i][i] = 1\n",
        "  F[n + i][i] = -1\n",
        "  F[2 * n][i] = 1 / n\n",
        "  F[2 * n+1][i] = -1 / n\n",
        "\n",
        "g = np.zeros((22, 1))\n",
        "for i in range(n):\n",
        "    g[i] = 1.25 * C_nom[i]\n",
        "    g[n + i] = -0.75 * C_nom[i]\n",
        "    g[2 * n] = np.reshape(np.sum(C_nom), (1, 1))/n\n",
        "    g[2 * n+1] = np.reshape(np.sum(C_nom), (1, 1))/n\n"
      ]
    },
    {
      "cell_type": "code",
      "source": [
        "# robust LP problem with polyhedral cost uncertainity \n",
        "X = cp.Variable((n, 1))\n",
        "L = cp.Variable((2 * n+2,1))\n",
        "Objective = cp.Minimize(L.T * g)\n",
        "Constraints = [A * X >= B, L >= 0, F.T * L == X]\n",
        "prob = cp.Problem(Objective, Constraints)\n",
        "prob.solve()\n",
        "print(f'Optimal cost from robust LP problem is {float(C_nom.T@X.value)}')\n",
        "\n",
        "C = cp.Variable((n, 1))\n",
        "Objective = cp.Maximize(C.T * X.value)\n",
        "Constraints = [F * C <= g]\n",
        "prob = cp.Problem(Objective, Constraints)\n",
        "answer = prob.solve()\n",
        "print(f'Cost for worst case in robust LP problem is {answer}')\n",
        "\n",
        "# nominal LP problem\n",
        "Objective = cp.Minimize(C_nom.T * X)\n",
        "Constraints = [A * X >= B]\n",
        "prob = cp.Problem(Objective, Constraints)\n",
        "prob.solve()\n",
        "print(f'Optimal cost from nominal LP problem is {float(C_nom.T * X.value)}')\n",
        "\n",
        "C = cp.Variable((n, 1))\n",
        "Objective = cp.Maximize(C.T * X.value)\n",
        "Constraints = [F * C <= g]\n",
        "prob = cp.Problem(Objective, Constraints)\n",
        "answer = prob.solve()\n",
        "print(f'Cost for worst case in nominal LP problem is {answer}')"
      ],
      "metadata": {
        "id": "nrnHcBCdXRMI",
        "outputId": "6a876472-f512-4b57-bc37-7a5c89a93ec9",
        "colab": {
          "base_uri": "https://localhost:8080/"
        }
      },
      "execution_count": 3,
      "outputs": [
        {
          "output_type": "stream",
          "name": "stdout",
          "text": [
            "Optimal cost from robust LP problem is 2.5386894180454997\n",
            "Cost for worst case in robust LP problem is 2.8767939167888232\n",
            "Optimal cost from nominal LP problem is 2.1092714620826003\n",
            "Cost for worst case in nominal LP problem is 7.221562204280983\n"
          ]
        }
      ]
    }
  ]
}