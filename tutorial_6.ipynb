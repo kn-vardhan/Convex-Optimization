{
  "nbformat": 4,
  "nbformat_minor": 0,
  "metadata": {
    "colab": {
      "name": "Convex_Optimization_6.ipynb",
      "provenance": []
    },
    "kernelspec": {
      "name": "python3",
      "display_name": "Python 3"
    },
    "language_info": {
      "name": "python"
    }
  },
  "cells": [
    {
      "cell_type": "code",
      "source": [
        "# Convex Optimization\n",
        "# Tutorial 6\n",
        "# Profit for Apple Accessories\n",
        "# iPod, iPhone, iPad\n",
        "\n",
        "import numpy as np\n",
        "import cvxpy as cp\n"
      ],
      "metadata": {
        "id": "Zrp4yfSSdXyw"
      },
      "execution_count": 1,
      "outputs": []
    },
    {
      "cell_type": "code",
      "execution_count": 2,
      "metadata": {
        "colab": {
          "base_uri": "https://localhost:8080/"
        },
        "id": "RyhuInwdGgsh",
        "outputId": "d4fd9ec8-7cf1-4203-9370-00c273c9e83f"
      },
      "outputs": [
        {
          "output_type": "stream",
          "name": "stdout",
          "text": [
            "Total production per week:\n",
            "[5000.00001098 7683.69423996 7889.7834528 ]\n",
            "Net Profit: $145000.00001165995\n"
          ]
        }
      ],
      "source": [
        "max_storage_space = 6000\n",
        "storage_capacity = np.array([0.040, 0.045, 0.210])\n",
        "max_production_per_day = np.array([6000, 5000, 3000])\n",
        "min_delivery = np.array([5000, 0, 4000])\n",
        "max_demand = np.array([10000, 15000, 8000])\n",
        "profit = np.array([4, 6, 10])\n",
        "\n",
        "X = cp.Variable(3)  # Production Count per week\n",
        "\n",
        "Objective = cp.Maximize(X @ profit)\n",
        "\n",
        "Constraints = [X >= min_delivery, X <= max_demand, (X @ storage_capacity) <= max_storage_space, \n",
        "               (X[0]/6000 + X[1]/5000 + X[2]/3000) <= 5]\n",
        "\n",
        "problem = cp.Problem(Objective, Constraints)\n",
        "net_profit = problem.solve()\n",
        "print(f'Total production per week:\\n{X.value}\\nNet Profit: ${net_profit}')"
      ]
    }
  ]
}