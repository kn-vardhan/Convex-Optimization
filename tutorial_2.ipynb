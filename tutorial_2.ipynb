{
  "nbformat": 4,
  "nbformat_minor": 0,
  "metadata": {
    "colab": {
      "name": "Convex_Optimization_2.ipynb",
      "provenance": []
    },
    "kernelspec": {
      "name": "python3",
      "display_name": "Python 3"
    },
    "language_info": {
      "name": "python"
    }
  },
  "cells": [
    {
      "cell_type": "code",
      "source": [
        "# Convex Optimization \n",
        "# Tutotial 2\n",
        "# Currency_Exchange_Problem\n",
        "\n",
        "import numpy as np\n",
        "import cvxpy as cp\n"
      ],
      "metadata": {
        "id": "QyKxkIJzfAn2"
      },
      "execution_count": null,
      "outputs": []
    },
    {
      "cell_type": "code",
      "metadata": {
        "id": "OMMwVSh7fWuB",
        "colab": {
          "base_uri": "https://localhost:8080/"
        },
        "outputId": "325c646d-641f-4612-bb7a-f58adb4753f5"
      },
      "source": [
        "tickers = [\"USD\", \"EUR\", \"GBP\", \"CAD\", \"JPY\", \"CNY\", \"RUB\", \"MXN\", \"INR\", \"BRL\"]\n",
        "n = len(tickers)\n",
        "F = np.zeros((n, n))\n",
        "data = ([1.0, 0.87, 0.76, 1.31, 108.90, 6.72, 65.45, 19.11, 71.13, 3.69], #USD \n",
        "        [1.0, 0.88, 1.51, 125.15, 7.72, 75.23, 21.96, 81.85, 4.24], #EUR \n",
        "        [1.0, 1.72, 142.94, 8.82, 85.90, 25.08, 93.50, 4.84], #GBP \n",
        "        [1.0, 82.93, 5.11, 49.82, 14.54, 54.23, 2.81], #CAD \n",
        "        [1.0, 0.062, 0.60, 0.18, 0.65, 0.034], #JPY \n",
        "        [1.0, 9.74, 2.85, 10.61, 0.55], #CNT \n",
        "        [1.0, 0.29, 1.09, 0.056], #RUB \n",
        "        [1.0, 3.73, 0.19], #MXN \n",
        "        [1.0, 0.052], #INR \n",
        "        [1.0]) #BRL \n",
        "for i in range(n):\n",
        "    F[i,i:] = data[i]\n",
        "for j in range(n):\n",
        "    for i in range(j+1,n):\n",
        "        F[i,j] = 1.035/F[j,i]\n",
        "        \n",
        "# Initial and final portfolios.\n",
        "c_req = np.arange(1,n+1)\n",
        "c_req = 1e4*c_req/c_req.sum()\n",
        "c_init = c_req[::-1]\n",
        "\n",
        "X = cp.Variable((n, n))\n",
        "c_final = c_init - (X.T @ np.ones(n)) + ((X/F) @ np.ones(n))\n",
        "constraints = [X >= 0, cp.diag(X) == 0, c_final >= c_req, cp.matmul(X.T, np.ones(n)) <= c_init]\n",
        "\n",
        "obj = cp.Minimize((c_init - c_final) @ np.sqrt(F[:, 0]/F[0, :]))\n",
        "\n",
        "prob = cp.Problem(obj, constraints)\n",
        "cost = prob.solve()\n",
        "print(f'The minimum cost is {cost}\\n')\n",
        "print('The currency exchange matrix is: ')\n",
        "print(X.value)"
      ],
      "execution_count": null,
      "outputs": [
        {
          "output_type": "stream",
          "name": "stdout",
          "text": [
            "The minimum cost is 7.720059340057959\n",
            "\n",
            "The currency exchange matrix is: \n",
            "[[6.23500805e-14 4.26378962e-09 3.69571711e-09 5.64615472e-09\n",
            "  3.28710650e-07 1.61321086e-08 1.52124644e-07 4.45680500e-08\n",
            "  1.28905492e-07 5.88965811e-09]\n",
            " [5.05940761e-09 6.23513554e-14 8.66968379e-09 2.18217089e-08\n",
            "  1.25513932e-06 3.31083355e-08 3.09318779e-07 8.83503561e-08\n",
            "  1.95695253e-07 8.91695364e-09]\n",
            " [5.06144792e-09 2.78991627e-09 6.23537860e-14 5.45454545e+02\n",
            "  2.19926086e-06 3.75451490e-08 3.67347691e-07 1.01892604e-07\n",
            "  2.11540956e-07 9.74007895e-09]\n",
            " [5.55175378e-09 2.51244215e-09 1.88832907e-09 6.23477978e-14\n",
            "  6.78131186e-06 4.93100738e-08 4.50037900e-07 1.25444863e-07\n",
            "  2.37110316e-07 1.01946294e-08]\n",
            " [1.01153910e-08 2.71050628e-09 2.17947362e-09 3.48820899e-09\n",
            "  6.23430103e-14 4.06564748e-08 8.83995727e-07 4.38317197e-08\n",
            "  9.49168016e-07 1.01810185e-08]\n",
            " [1.65029401e+01 4.03105383e-09 3.17630883e-09 4.65764454e-09\n",
            "  4.05623583e-07 6.23420970e-14 7.27272724e+02 6.53362004e-07\n",
            "  3.74312655e-06 1.61201962e-08]\n",
            " [1.17316464e-08 3.04283792e-09 2.40179088e-09 3.77586488e-09\n",
            "  2.48497737e-07 1.35185805e-08 6.21954453e-14 3.69090908e+02\n",
            "  3.25939264e-07 1.80371420e-08]\n",
            " [1.56860433e+01 4.06057113e-09 3.13684416e-09 4.73007004e-09\n",
            "  1.81818175e+02 1.70055618e-08 1.27016042e-07 6.23455535e-14\n",
            "  5.64062708e-06 1.81818182e+02]\n",
            " [1.85192287e+01 4.36530077e-09 3.38120485e-09 5.14133496e-09\n",
            "  2.75898083e-07 1.69385277e-08 1.65479656e-07 4.66467495e-08\n",
            "  6.23494362e-14 1.53692384e-08]\n",
            " [5.09977827e+02 4.12289510e-09 3.12535598e-09 5.02687645e-09\n",
            "  3.79957363e-07 1.69783405e-08 1.27518074e-07 3.07748862e-08\n",
            "  1.35518058e-07 6.25190692e-14]]\n"
          ]
        }
      ]
    }
  ]
}