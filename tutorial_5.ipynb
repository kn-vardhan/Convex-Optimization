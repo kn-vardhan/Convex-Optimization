{
  "nbformat": 4,
  "nbformat_minor": 0,
  "metadata": {
    "colab": {
      "name": "Convex_Optimization_5.ipynb",
      "provenance": []
    },
    "kernelspec": {
      "name": "python3",
      "display_name": "Python 3"
    },
    "language_info": {
      "name": "python"
    }
  },
  "cells": [
    {
      "cell_type": "code",
      "source": [
        "# Convex Optimization \n",
        "# Tutorial 5\n",
        "# Factory Demand-Supply\n",
        "\n",
        "import numpy as np\n",
        "import cvxpy as cp\n"
      ],
      "metadata": {
        "id": "bNDMDXBZdtH2"
      },
      "execution_count": 1,
      "outputs": []
    },
    {
      "cell_type": "code",
      "execution_count": 2,
      "metadata": {
        "colab": {
          "base_uri": "https://localhost:8080/"
        },
        "id": "8BbE7G9hTMYE",
        "outputId": "f6d457c5-7c0e-4504-dbee-5686c276f0f2"
      },
      "outputs": [
        {
          "output_type": "execute_result",
          "data": {
            "text/plain": [
              "1025.0000000955836"
            ]
          },
          "metadata": {},
          "execution_count": 2
        }
      ],
      "source": [
        "n = 3 # no. of factories\n",
        "m = 5 # np. of destinations\n",
        "\n",
        "Cost = np.matrix([[8, 6, 10, 9, 8], [9, 12, 13, 7, 5], [14, 9, 16, 5, 2]])\n",
        "\n",
        "supply = np.array([40, 50, 45]).reshape(3, 1)\n",
        "demand = np.array([45, 20, 30, 30, 10]).reshape(5, 1)\n",
        "cost_supply = cp.Variable((n, m))\n",
        "objective = cp.Minimize(cp.trace(cp.matmul(cost_supply, np.transpose(Cost))))\n",
        "constraints = [cost_supply >= 0, (cost_supply @ np.ones((m, 1))) <= np.matrix(supply), (cost_supply.T @ np.ones((n, 1))) >= demand]\n",
        "\n",
        "prob = cp.Problem(objective, constraints)\n",
        "prob.solve()"
      ]
    }
  ]
}