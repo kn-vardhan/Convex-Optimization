{
  "nbformat": 4,
  "nbformat_minor": 0,
  "metadata": {
    "colab": {
      "name": "Convex_Optimization_9.ipynb",
      "provenance": []
    },
    "kernelspec": {
      "name": "python3",
      "display_name": "Python 3"
    },
    "language_info": {
      "name": "python"
    }
  },
  "cells": [
    {
      "cell_type": "code",
      "execution_count": 4,
      "metadata": {
        "id": "HHMcmcvVaBoI"
      },
      "outputs": [],
      "source": [
        "# Convex Optimization\n",
        "# Tutorial 9\n",
        "# Power assignment in a wireless communication system\n",
        "\n",
        "import numpy as np\n",
        "import cvxpy as cp\n"
      ]
    },
    {
      "cell_type": "code",
      "source": [
        "\n",
        "n = 5\n",
        "\n",
        "G = np.matrix([[1.0, 0.1, 0.2, 0.1, 0.0],\n",
        "               [0.1, 1.0, 0.1, 0.1, 0.0],\n",
        "               [0.2 ,0.1, 2.0, 0.2, 0.2],\n",
        "               [0.1, 0.1, 0.2, 1.0, 0.1],\n",
        "               [0.0, 0.0, 0.2, 0.1, 1.0]])\n",
        "\n",
        "max_pow_transmitter = 3\n",
        "max_pow_receiver = 5\n",
        "total_pow_limit_1 = 4\n",
        "total_pow_limit_2 = 6\n",
        "upper = 1e4\n",
        "lower = 0.0\n",
        "\n",
        "Noise = np.full((n), 0.5)\n",
        "unit = np.identity(n)\n",
        "P = cp.Variable(n)\n",
        "S = cp.multiply(G, unit)\n",
        "SINR_ratio = cp.Parameter(1)\n",
        "\n",
        "I = G - S\n",
        "\n",
        "Objective = cp.Maximize(SINR_ratio)\n",
        "\n",
        "while (upper - lower >= 0.05):\n",
        "  SINR_ratio.value = np.atleast_1d((upper + lower)/2.0)\n",
        "  Constraints = [P >= 0, P <= max_pow_transmitter,\n",
        "                 P[0] + P[1] <= total_pow_limit_1, \n",
        "                 P[2] + P[3] + P[4] <= total_pow_limit_2, \n",
        "                 G @ P <= max_pow_receiver, \n",
        "                 I @ P + Noise <= SINR_ratio @ S @ P]\n",
        "  prob = cp.Problem(Objective, Constraints)\n",
        "  prob.solve()\n",
        "\n",
        "  if prob.status == 'optimal': upper = (upper + lower) / 2.0; answer = P.value\n",
        "  else: lower = (upper + lower) / 2.0\n",
        "\n",
        "answer = np.around(answer, 4)\n"
      ],
      "metadata": {
        "id": "NNpOegsZZNyZ"
      },
      "execution_count": 5,
      "outputs": []
    },
    {
      "cell_type": "code",
      "source": [
        "print(f'The maximum of the minimum SINR ratio is {round(1/SINR_ratio.value[0], 4)}')\n",
        "print(f'The respective transmitter powers for the above SINR ratio are: ')\n",
        "print(*answer, sep=', ')\n"
      ],
      "metadata": {
        "id": "RcU8sB8UZXmN",
        "outputId": "f4d1332d-175f-47e5-ddfe-415e9208d5c5",
        "colab": {
          "base_uri": "https://localhost:8080/"
        }
      },
      "execution_count": 6,
      "outputs": [
        {
          "output_type": "stream",
          "name": "stdout",
          "text": [
            "The maximum of the minimum SINR ratio is 1.7476\n",
            "The respective transmitter powers for the above SINR ratio are: \n",
            "2.0533, 1.8569, 1.5972, 2.3231, 1.8557\n"
          ]
        }
      ]
    }
  ]
}